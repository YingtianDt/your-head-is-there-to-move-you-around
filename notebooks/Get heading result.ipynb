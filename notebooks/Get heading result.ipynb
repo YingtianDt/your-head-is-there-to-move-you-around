{
 "cells": [
  {
   "cell_type": "markdown",
   "id": "imposed-perth",
   "metadata": {},
   "source": [
    "# Heading decoding\n",
    "\n",
    "Our claim is those networks which are better at representing heading in sequences (better at decoding) are also more suited to match representations in the dorsal visual stream. To show this is the case, we need to:\n",
    "\n",
    "* Load the fits\n",
    "* Find the best iteration for each network, layer.\n",
    "* Subselect the right, valid layers\n",
    "* Compare the performance of different layers of the decoder at different times during the optimization to their performance."
   ]
  },
  {
   "cell_type": "code",
   "execution_count": 56,
   "id": "banner-receipt",
   "metadata": {},
   "outputs": [
    {
     "name": "stderr",
     "output_type": "stream",
     "text": [
      "100%|██████████| 17/17 [00:30<00:00,  1.80s/it]\n"
     ]
    }
   ],
   "source": [
    "import os\n",
    "import pandas as pd\n",
    "import wandb\n",
    "from tqdm import tqdm\n",
    "\n",
    "api = wandb.Api()\n",
    "\n",
    "runs = api.runs(\"pmin/crcns-train_heading.py\", \n",
    "                {\"$and\": \n",
    "                 [\n",
    "                     {\"state\": \"finished\"},\n",
    "                ]\n",
    "                }\n",
    "               )\n",
    "\n",
    "features = {}\n",
    "heading_results = []\n",
    "for run in tqdm(runs):\n",
    "    if run.config['features'] in features:\n",
    "        continue\n",
    "    \n",
    "    try:\n",
    "        os.remove('tuning_loss.npy')\n",
    "    except FileNotFoundError:\n",
    "        pass\n",
    "    \n",
    "    try:\n",
    "        os.remove('report_loss.npy')\n",
    "    except FileNotFoundError:\n",
    "        pass\n",
    "    \n",
    "    for f in run.files():\n",
    "        f.download(replace=True)\n",
    "\n",
    "    try:\n",
    "        tuning_loss = np.load('tuning_loss.npy')\n",
    "    except FileNotFoundError:\n",
    "        continue\n",
    "        \n",
    "    report_loss = np.load('report_loss.npy')\n",
    "    \n",
    "    try:\n",
    "        layer_names = sorted(run.summary['best_report_loss'].keys())\n",
    "    except:\n",
    "        layer_names = [f'layer{i:02d}' for i in range(tuning_loss.shape[0])]\n",
    "    \n",
    "    best_report_loss = np.zeros((tuning_loss.shape[0], tuning_loss.shape[2]))\n",
    "    for i in range(tuning_loss.shape[0]):\n",
    "        minpos = tuning_loss[i, :, :].mean(axis=1).argmin()\n",
    "        best_report_loss[i, :] = report_loss[i, minpos, :]\n",
    "    \n",
    "    heading_results += [\n",
    "        {'features': run.config['features'],\n",
    "         'layer_name': name,\n",
    "         'heading_loss': best_report_loss[i, :].mean(),\n",
    "         'heading_loss_pitch': best_report_loss[i, 0].mean(),\n",
    "         'heading_loss_yaw': best_report_loss[i, 1].mean(),\n",
    "         'heading_loss_rotation_pitch': best_report_loss[i, 2].mean(),\n",
    "         'heading_loss_rotation_yaw': best_report_loss[i, 3].mean(),\n",
    "         'heading_loss_speed': best_report_loss[i, 4].mean(),\n",
    "        } for i, name in enumerate(layer_names)\n",
    "    ]\n",
    "    features[run.config['features']] = 1\n",
    "    \n",
    "df_heading = pd.DataFrame(heading_results)"
   ]
  },
  {
   "cell_type": "code",
   "execution_count": 57,
   "id": "national-traveler",
   "metadata": {},
   "outputs": [
    {
     "data": {
      "text/html": [
       "<div>\n",
       "<style scoped>\n",
       "    .dataframe tbody tr th:only-of-type {\n",
       "        vertical-align: middle;\n",
       "    }\n",
       "\n",
       "    .dataframe tbody tr th {\n",
       "        vertical-align: top;\n",
       "    }\n",
       "\n",
       "    .dataframe thead th {\n",
       "        text-align: right;\n",
       "    }\n",
       "</style>\n",
       "<table border=\"1\" class=\"dataframe\">\n",
       "  <thead>\n",
       "    <tr style=\"text-align: right;\">\n",
       "      <th></th>\n",
       "      <th>features</th>\n",
       "      <th>layer_name</th>\n",
       "      <th>heading_loss</th>\n",
       "      <th>heading_loss_pitch</th>\n",
       "      <th>heading_loss_yaw</th>\n",
       "      <th>heading_loss_rotation_pitch</th>\n",
       "      <th>heading_loss_rotation_yaw</th>\n",
       "      <th>heading_loss_speed</th>\n",
       "    </tr>\n",
       "  </thead>\n",
       "  <tbody>\n",
       "    <tr>\n",
       "      <th>0</th>\n",
       "      <td>I3D</td>\n",
       "      <td>layer00</td>\n",
       "      <td>3.163408</td>\n",
       "      <td>2.502536</td>\n",
       "      <td>3.705034</td>\n",
       "      <td>2.126441</td>\n",
       "      <td>3.089627</td>\n",
       "      <td>4.393403</td>\n",
       "    </tr>\n",
       "    <tr>\n",
       "      <th>1</th>\n",
       "      <td>I3D</td>\n",
       "      <td>layer01</td>\n",
       "      <td>3.130249</td>\n",
       "      <td>2.516052</td>\n",
       "      <td>3.728760</td>\n",
       "      <td>2.048092</td>\n",
       "      <td>2.923775</td>\n",
       "      <td>4.434566</td>\n",
       "    </tr>\n",
       "    <tr>\n",
       "      <th>2</th>\n",
       "      <td>I3D</td>\n",
       "      <td>layer02</td>\n",
       "      <td>3.211533</td>\n",
       "      <td>2.609058</td>\n",
       "      <td>3.776825</td>\n",
       "      <td>2.103789</td>\n",
       "      <td>3.039051</td>\n",
       "      <td>4.528940</td>\n",
       "    </tr>\n",
       "    <tr>\n",
       "      <th>3</th>\n",
       "      <td>I3D</td>\n",
       "      <td>layer03</td>\n",
       "      <td>3.180498</td>\n",
       "      <td>2.564221</td>\n",
       "      <td>3.791449</td>\n",
       "      <td>2.068312</td>\n",
       "      <td>2.969732</td>\n",
       "      <td>4.508778</td>\n",
       "    </tr>\n",
       "    <tr>\n",
       "      <th>4</th>\n",
       "      <td>I3D</td>\n",
       "      <td>layer04</td>\n",
       "      <td>3.099976</td>\n",
       "      <td>2.519368</td>\n",
       "      <td>3.742247</td>\n",
       "      <td>2.001397</td>\n",
       "      <td>2.831500</td>\n",
       "      <td>4.405370</td>\n",
       "    </tr>\n",
       "    <tr>\n",
       "      <th>...</th>\n",
       "      <td>...</td>\n",
       "      <td>...</td>\n",
       "      <td>...</td>\n",
       "      <td>...</td>\n",
       "      <td>...</td>\n",
       "      <td>...</td>\n",
       "      <td>...</td>\n",
       "      <td>...</td>\n",
       "    </tr>\n",
       "    <tr>\n",
       "      <th>90</th>\n",
       "      <td>cpc_01</td>\n",
       "      <td>layer04</td>\n",
       "      <td>2.585445</td>\n",
       "      <td>2.472202</td>\n",
       "      <td>3.554297</td>\n",
       "      <td>1.139845</td>\n",
       "      <td>1.585714</td>\n",
       "      <td>4.175165</td>\n",
       "    </tr>\n",
       "    <tr>\n",
       "      <th>91</th>\n",
       "      <td>cpc_01</td>\n",
       "      <td>layer06</td>\n",
       "      <td>2.600405</td>\n",
       "      <td>2.462635</td>\n",
       "      <td>3.575049</td>\n",
       "      <td>1.170548</td>\n",
       "      <td>1.622192</td>\n",
       "      <td>4.171598</td>\n",
       "    </tr>\n",
       "    <tr>\n",
       "      <th>92</th>\n",
       "      <td>cpc_01</td>\n",
       "      <td>layer08</td>\n",
       "      <td>2.670085</td>\n",
       "      <td>2.460824</td>\n",
       "      <td>3.609590</td>\n",
       "      <td>1.253068</td>\n",
       "      <td>1.796242</td>\n",
       "      <td>4.230702</td>\n",
       "    </tr>\n",
       "    <tr>\n",
       "      <th>93</th>\n",
       "      <td>cpc_01</td>\n",
       "      <td>layer10</td>\n",
       "      <td>2.775955</td>\n",
       "      <td>2.503787</td>\n",
       "      <td>3.628002</td>\n",
       "      <td>1.308482</td>\n",
       "      <td>2.109606</td>\n",
       "      <td>4.329899</td>\n",
       "    </tr>\n",
       "    <tr>\n",
       "      <th>94</th>\n",
       "      <td>cpc_01</td>\n",
       "      <td>layer12</td>\n",
       "      <td>2.781050</td>\n",
       "      <td>2.544669</td>\n",
       "      <td>3.757107</td>\n",
       "      <td>1.238670</td>\n",
       "      <td>1.882627</td>\n",
       "      <td>4.482178</td>\n",
       "    </tr>\n",
       "  </tbody>\n",
       "</table>\n",
       "<p>95 rows × 8 columns</p>\n",
       "</div>"
      ],
      "text/plain": [
       "   features layer_name  heading_loss  heading_loss_pitch  heading_loss_yaw  \\\n",
       "0       I3D    layer00      3.163408            2.502536          3.705034   \n",
       "1       I3D    layer01      3.130249            2.516052          3.728760   \n",
       "2       I3D    layer02      3.211533            2.609058          3.776825   \n",
       "3       I3D    layer03      3.180498            2.564221          3.791449   \n",
       "4       I3D    layer04      3.099976            2.519368          3.742247   \n",
       "..      ...        ...           ...                 ...               ...   \n",
       "90   cpc_01    layer04      2.585445            2.472202          3.554297   \n",
       "91   cpc_01    layer06      2.600405            2.462635          3.575049   \n",
       "92   cpc_01    layer08      2.670085            2.460824          3.609590   \n",
       "93   cpc_01    layer10      2.775955            2.503787          3.628002   \n",
       "94   cpc_01    layer12      2.781050            2.544669          3.757107   \n",
       "\n",
       "    heading_loss_rotation_pitch  heading_loss_rotation_yaw  heading_loss_speed  \n",
       "0                      2.126441                   3.089627            4.393403  \n",
       "1                      2.048092                   2.923775            4.434566  \n",
       "2                      2.103789                   3.039051            4.528940  \n",
       "3                      2.068312                   2.969732            4.508778  \n",
       "4                      2.001397                   2.831500            4.405370  \n",
       "..                          ...                        ...                 ...  \n",
       "90                     1.139845                   1.585714            4.175165  \n",
       "91                     1.170548                   1.622192            4.171598  \n",
       "92                     1.253068                   1.796242            4.230702  \n",
       "93                     1.308482                   2.109606            4.329899  \n",
       "94                     1.238670                   1.882627            4.482178  \n",
       "\n",
       "[95 rows x 8 columns]"
      ]
     },
     "execution_count": 57,
     "metadata": {},
     "output_type": "execute_result"
    }
   ],
   "source": [
    "df_heading"
   ]
  },
  {
   "cell_type": "code",
   "execution_count": 34,
   "id": "canadian-shark",
   "metadata": {},
   "outputs": [
    {
     "data": {
      "text/plain": [
       "dict_keys(['I3D', 'r2plus1d_18', 'mc3_18', 'r3d_18', 'MotionNet', 'gaborpyramid3d_motionless', 'gaborpyramid3d', 'airsim_04', 'cpc_02', 'cpc_01'])"
      ]
     },
     "execution_count": 34,
     "metadata": {},
     "output_type": "execute_result"
    }
   ],
   "source": [
    "results.keys()"
   ]
  },
  {
   "cell_type": "code",
   "execution_count": 2,
   "id": "engaging-cricket",
   "metadata": {},
   "outputs": [
    {
     "data": {
      "text/plain": [
       "(18, 50, 5)"
      ]
     },
     "execution_count": 2,
     "metadata": {},
     "output_type": "execute_result"
    }
   ],
   "source": [
    "import numpy as np\n",
    "import matplotlib.pyplot as plt\n",
    "\n",
    "loss = np.load('report_loss.npy')\n",
    "plt.plot(loss.shape"
   ]
  },
  {
   "cell_type": "code",
   "execution_count": 88,
   "id": "unauthorized-bedroom",
   "metadata": {},
   "outputs": [],
   "source": [
    "import sys\n",
    "sys.path.append('../')\n",
    "from loaders import airsim\n",
    "\n",
    "loader = airsim.AirSim('/mnt/e/data_derived/airsim/batch2/', regression=False)"
   ]
  },
  {
   "cell_type": "code",
   "execution_count": 99,
   "id": "pretty-chancellor",
   "metadata": {},
   "outputs": [
    {
     "data": {
      "text/plain": [
       "(array([449., 470., 485., 452., 469., 458., 482., 488., 426., 444., 457.,\n",
       "        434., 479., 479., 451., 474., 462., 454., 467., 461., 470., 447.,\n",
       "        443., 472., 480., 433., 446., 471., 458., 444., 496., 490., 446.,\n",
       "        423., 438., 465., 434., 461., 473., 436., 461., 449., 427., 427.,\n",
       "        435., 431., 431., 424., 399., 423., 428., 444., 437., 446., 386.,\n",
       "        420., 390., 422., 460., 432., 415., 396., 409., 382., 413., 393.,\n",
       "        392., 406., 417., 358., 407., 392.]),\n",
       " array([ 0,  1,  2,  3,  4,  5,  6,  7,  8,  9, 10, 11, 12, 13, 14, 15, 16,\n",
       "        17, 18, 19, 20, 21, 22, 23, 24, 25, 26, 27, 28, 29, 30, 31, 32, 33,\n",
       "        34, 35, 36, 37, 38, 39, 40, 41, 42, 43, 44, 45, 46, 47, 48, 49, 50,\n",
       "        51, 52, 53, 54, 55, 56, 57, 58, 59, 60, 61, 62, 63, 64, 65, 66, 67,\n",
       "        68, 69, 70, 71, 72]),\n",
       " <BarContainer object of 72 artists>)"
      ]
     },
     "execution_count": 99,
     "metadata": {},
     "output_type": "execute_result"
    },
    {
     "data": {
      "image/png": "[encoded data removed]",
      "text/plain": [
       "<Figure size 432x288 with 1 Axes>"
      ]
     },
     "metadata": {
      "needs_background": "light"
     },
     "output_type": "display_data"
    }
   ],
   "source": [
    "A = np.array([x['labels'] for x in loader.sequence])\n",
    "plt.hist(A[:, 4], np.arange(73))"
   ]
  }
 ],
 "metadata": {
  "kernelspec": {
   "display_name": "Python 3",
   "language": "python",
   "name": "python3"
  },
  "language_info": {
   "codemirror_mode": {
    "name": "ipython",
    "version": 3
   },
   "file_extension": ".py",
   "mimetype": "text/x-python",
   "name": "python",
   "nbconvert_exporter": "python",
   "pygments_lexer": "ipython3",
   "version": "3.8.8"
  }
 },
 "nbformat": 4,
 "nbformat_minor": 5
}
