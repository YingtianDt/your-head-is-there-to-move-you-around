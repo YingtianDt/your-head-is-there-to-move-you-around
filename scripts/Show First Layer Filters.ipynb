{
 "cells": [
  {
   "cell_type": "code",
   "execution_count": 10,
   "metadata": {},
   "outputs": [],
   "source": [
    "from python_dict_wrapper import wrap\n",
    "import sys\n",
    "sys.path.append('../')\n",
    "\n"
   ]
  },
  {
   "cell_type": "code",
   "execution_count": 44,
   "metadata": {},
   "outputs": [],
   "source": [
    "import matplotlib.pyplot as plt\n",
    "\n",
    "from matplotlib import animation\n",
    "from IPython.display import HTML\n",
    "from matplotlib.animation import FuncAnimation, PillowWriter, FFMpegWriter\n",
    "\n",
    "def get_anim(result, norm=False, title=\"\"):\n",
    "    fig = plt.figure(figsize=(4, 4))\n",
    "    ax = plt.gca()\n",
    "    im = plt.imshow([[1]], cmap='gray')\n",
    "    \n",
    "    if title:\n",
    "        plt.suptitle(title)\n",
    "    plt.axis('off')\n",
    "    nt = result.shape[2]\n",
    "\n",
    "    rg = None\n",
    "    if norm:\n",
    "        rg = [result.min(), result.max()]\n",
    "\n",
    "    def drawframe(n):\n",
    "        if n >= nt:\n",
    "            n = nt - 1\n",
    "        else:\n",
    "            im.set_data(result[:, :, :, n])\n",
    "        if norm:\n",
    "            im.set_clim(rg)\n",
    "        return (im)\n",
    "\n",
    "    # blit=True re-draws only the parts that have changed.\n",
    "    anim = animation.FuncAnimation(fig, drawframe, frames=nt*2, interval=500, blit=False)\n",
    "    plt.close()\n",
    "    return anim\n",
    "\n",
    "for features in ['ShallowMonkeyNet_pvc1', 'ShallowMonkeyNet_pvc4', 'V1Net']:\n",
    "    args = wrap({'features': features,\n",
    "                 'ckpt_root': '../pretrained'})\n",
    "\n",
    "    from fmri_models import get_feature_model\n",
    "\n",
    "    model, _, _ = get_feature_model(args)\n",
    "\n",
    "    if features == 'V1Net':\n",
    "        w = model.s1.conv1.weight.cpu().detach().numpy()\n",
    "    else:\n",
    "        w = model.conv1.weight.cpu().detach().numpy()\n",
    "    w = w / abs(w).max()\n",
    "    ani = get_anim(.5 + .5*w.reshape((4, 4, 3, 5, 7, 7)).transpose((0, 4, 1, 5, 2, 3)).reshape((28, 28, 3, 5)), title=features)\n",
    "        \n",
    "    writer = FFMpegWriter(fps=10)\n",
    "    ani.save(f\"figures/filters_{features}.gif\", writer=writer)  "
   ]
  },
  {
   "cell_type": "code",
   "execution_count": 35,
   "metadata": {},
   "outputs": [
    {
     "data": {
      "text/plain": [
       "V1Net(\n",
       "  (s1): ShallowNet(\n",
       "    (conv1): SymmetricConv3d()\n",
       "    (bn1): BatchNorm3d(64, eps=1e-05, momentum=0.1, affine=True, track_running_stats=True)\n",
       "    (relu): LeakyReLU(negative_slope=0.1, inplace=True)\n",
       "    (pool_layer): MaxPool3d(kernel_size=[1, 3, 3], stride=[1, 2, 2], padding=[0, 1, 1], dilation=1, ceil_mode=False)\n",
       "    (dropout): Dropout3d(p=0, inplace=False)\n",
       "  )\n",
       "  (skip_conv): Conv3d(64, 32, kernel_size=[1, 1, 1], stride=[1, 1, 1])\n",
       "  (bn): BatchNorm3d(32, eps=1e-05, momentum=0.1, affine=True, track_running_stats=True)\n",
       "  (relu): LeakyReLU(negative_slope=0.01)\n",
       "  (res0): ResBlock(\n",
       "    (branch1): Conv3d(64, 32, kernel_size=(1, 1, 1), stride=[1, 1, 1], bias=False)\n",
       "    (branch1_bn): BatchNorm3d(32, eps=1e-05, momentum=0.1, affine=True, track_running_stats=True)\n",
       "    (branch2): BottleneckTransform(\n",
       "      (a): Conv3d(64, 8, kernel_size=[3, 1, 1], stride=[1, 1, 1], padding=[1, 0, 0], bias=False)\n",
       "      (a_bn): BatchNorm3d(8, eps=1e-05, momentum=0.1, affine=True, track_running_stats=True)\n",
       "      (a_relu): ReLU(inplace=True)\n",
       "      (b): Conv3d(8, 8, kernel_size=[1, 3, 3], stride=[1, 1, 1], padding=[0, 1, 1], dilation=[1, 1, 1], bias=False)\n",
       "      (b_bn): BatchNorm3d(8, eps=1e-05, momentum=0.1, affine=True, track_running_stats=True)\n",
       "      (b_relu): ReLU(inplace=True)\n",
       "      (c): Conv3d(8, 32, kernel_size=[1, 1, 1], stride=[1, 1, 1], padding=[0, 0, 0], bias=False)\n",
       "      (c_bn): BatchNorm3d(32, eps=1e-05, momentum=0.1, affine=True, track_running_stats=True)\n",
       "    )\n",
       "    (relu): ReLU()\n",
       "  )\n",
       "  (res1): ResBlock(\n",
       "    (branch2): BottleneckTransform(\n",
       "      (a): Conv3d(32, 8, kernel_size=[3, 1, 1], stride=[1, 1, 1], padding=[1, 0, 0], bias=False)\n",
       "      (a_bn): BatchNorm3d(8, eps=1e-05, momentum=0.1, affine=True, track_running_stats=True)\n",
       "      (a_relu): ReLU(inplace=True)\n",
       "      (b): Conv3d(8, 8, kernel_size=[1, 3, 3], stride=[1, 1, 1], padding=[0, 1, 1], dilation=[1, 1, 1], bias=False)\n",
       "      (b_bn): BatchNorm3d(8, eps=1e-05, momentum=0.1, affine=True, track_running_stats=True)\n",
       "      (b_relu): ReLU(inplace=True)\n",
       "      (c): Conv3d(8, 32, kernel_size=[1, 1, 1], stride=[1, 1, 1], padding=[0, 0, 0], bias=False)\n",
       "      (c_bn): BatchNorm3d(32, eps=1e-05, momentum=0.1, affine=True, track_running_stats=True)\n",
       "    )\n",
       "    (relu): ReLU()\n",
       "  )\n",
       "  (cat): Identity()\n",
       "  (dropout): Dropout3d(p=0.1, inplace=False)\n",
       ")"
      ]
     },
     "execution_count": 35,
     "metadata": {},
     "output_type": "execute_result"
    }
   ],
   "source": [
    "model"
   ]
  }
 ],
 "metadata": {
  "kernelspec": {
   "display_name": "Python 3",
   "language": "python",
   "name": "python3"
  },
  "language_info": {
   "codemirror_mode": {
    "name": "ipython",
    "version": 3
   },
   "file_extension": ".py",
   "mimetype": "text/x-python",
   "name": "python",
   "nbconvert_exporter": "python",
   "pygments_lexer": "ipython3",
   "version": "3.8.2"
  }
 },
 "nbformat": 4,
 "nbformat_minor": 4
}
