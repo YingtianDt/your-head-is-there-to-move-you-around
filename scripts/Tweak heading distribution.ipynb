{
 "cells": [
  {
   "cell_type": "code",
   "execution_count": 34,
   "id": "according-horse",
   "metadata": {},
   "outputs": [
    {
     "name": "stderr",
     "output_type": "stream",
     "text": [
      "<ipython-input-34-f5d845dd02be>:16: MatplotlibDeprecationWarning: Adding an axes using the same arguments as a previous axes currently reuses the earlier instance.  In a future version, a new instance will always be created and returned.  Meanwhile, this warning can be suppressed, and the future behavior ensured, by passing a unique label to each axes instance.\n",
      "  plt.subplot(121)\n"
     ]
    },
    {
     "data": {
      "text/plain": [
       "(array([  0.,   0.,   0.,   0.,   0.,   0.,   0.,   8., 100., 402., 389.,\n",
       "         97.,   3.,   1.,   0.,   0.,   0.,   0.,   0.,   0.]),\n",
       " array([-3.14159265, -2.82743339, -2.51327412, -2.19911486, -1.88495559,\n",
       "        -1.57079633, -1.25663706, -0.9424778 , -0.62831853, -0.31415927,\n",
       "         0.        ,  0.31415927,  0.62831853,  0.9424778 ,  1.25663706,\n",
       "         1.57079633,  1.88495559,  2.19911486,  2.51327412,  2.82743339,\n",
       "         3.14159265]),\n",
       " <BarContainer object of 20 artists>)"
      ]
     },
     "execution_count": 34,
     "metadata": {},
     "output_type": "execute_result"
    },
    {
     "data": {
      "image/png": "[encoded data removed]",
      "text/plain": [
       "<Figure size 432x288 with 1 Axes>"
      ]
     },
     "metadata": {
      "needs_background": "light"
     },
     "output_type": "display_data"
    }
   ],
   "source": [
    "import numpy as np\n",
    "import matplotlib.pyplot as plt\n",
    "\n",
    "def draw_von_mises(A):\n",
    "    # Via rejection sampling.\n",
    "    while 1:\n",
    "        theta = np.random.uniform(-np.pi, np.pi)\n",
    "        a = np.exp(A * (np.cos(theta)-1))\n",
    "        if a > np.random.rand():\n",
    "            return theta\n",
    "\n",
    "plt.subplot(121)\n",
    "headings = [draw_von_mises(1.5) for x in range(1000)]\n",
    "plt.hist(headings, np.linspace(-np.pi, np.pi, 21))\n",
    "\n",
    "plt.subplot(121)\n",
    "headings = [draw_von_mises(16) for x in range(1000)]\n",
    "plt.hist(headings, np.linspace(-np.pi, np.pi, 21))"
   ]
  }
 ],
 "metadata": {
  "kernelspec": {
   "display_name": "Python 3",
   "language": "python",
   "name": "python3"
  },
  "language_info": {
   "codemirror_mode": {
    "name": "ipython",
    "version": 3
   },
   "file_extension": ".py",
   "mimetype": "text/x-python",
   "name": "python",
   "nbconvert_exporter": "python",
   "pygments_lexer": "ipython3",
   "version": "3.8.5"
  }
 },
 "nbformat": 4,
 "nbformat_minor": 5
}
