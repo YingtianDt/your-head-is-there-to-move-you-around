{
 "cells": [
  {
   "cell_type": "code",
   "execution_count": 10,
   "metadata": {},
   "outputs": [
    {
     "data": {
      "text/plain": [
       "LowRankNet(\n",
       "  (subnet): Xception(\n",
       "    (conv1): Conv2d(3, 64, kernel_size=(7, 7), stride=(2, 2), bias=False)\n",
       "    (relu): ReLU(inplace=True)\n",
       "  )\n",
       ")"
      ]
     },
     "execution_count": 10,
     "metadata": {},
     "output_type": "execute_result"
    }
   ],
   "source": [
    "import os\n",
    "import pvc1_loader\n",
    "import separable_net\n",
    "import torch\n",
    "import xception\n",
    "\n",
    "data_root = '.'\n",
    "device = torch.device('cuda')\n",
    "\n",
    "trainset = pvc1_loader.PVC1(os.path.join(data_root, 'data/crcns-ringach-data'), \n",
    "                            split='train', \n",
    "                            nt=32, \n",
    "                            ntau=9,\n",
    "                            nframedelay=2)\n",
    "trainloader = torch.utils.data.DataLoader(trainset, \n",
    "                                          batch_size=12, \n",
    "                                          shuffle=False)\n",
    "\n",
    "subnet = xception.Xception(start_kernel_size=7, \n",
    "                           nblocks=0, \n",
    "                           nstartfeats=64)\n",
    "subnet.to(device=device)\n",
    "\n",
    "net = separable_net.LowRankNet(subnet, \n",
    "                               trainset.total_electrodes, \n",
    "                               64, \n",
    "                               53, \n",
    "                               53, \n",
    "                               trainset.ntau).to(device)\n",
    "\n",
    "net.to(device=device)"
   ]
  },
  {
   "cell_type": "code",
   "execution_count": null,
   "metadata": {},
   "outputs": [],
   "source": [
    "\"\"\"\n",
    "i = 0\n",
    "total = 0\n",
    "total_sq = 0\n",
    "n = 0\n",
    "for X, M, Y in trainloader:\n",
    "    print(i)\n",
    "    n = n + i\n",
    "    if n % 10 == 0:\n",
    "        print(i)\n",
    "    total += X.sum(axis=0).sum(axis=1)\n",
    "    total_sq += (X ** 2).sum(axis=0).sum(axis=1)\n",
    "    i += X.shape[0] * X.shape[2]\n",
    "\"\"\"\n",
    "\n",
    "import matplotlib.pyplot as plt\n",
    "#plt.imshow((total[:, :, :] / i).permute(1, 2, 0) / 255)\n",
    "#total.shape\n",
    "(total[:, :, :] / i).mean(dim=1).mean(dim=1)"
   ]
  },
  {
   "cell_type": "code",
   "execution_count": 3,
   "metadata": {},
   "outputs": [
    {
     "data": {
      "text/plain": [
       "tensor([-0.0049,  0.0055, -0.0050])"
      ]
     },
     "execution_count": 3,
     "metadata": {},
     "output_type": "execute_result"
    }
   ],
   "source": []
  },
  {
   "cell_type": "code",
   "execution_count": 11,
   "metadata": {},
   "outputs": [
    {
     "data": {
      "text/plain": [
       "<All keys matched successfully>"
      ]
     },
     "execution_count": 11,
     "metadata": {},
     "output_type": "execute_result"
    }
   ],
   "source": [
    "net.load_state_dict(torch.load('models/shallow/xception.ckpt-0212096-2020-12-15 10-33-19.873072.pt'))"
   ]
  },
  {
   "cell_type": "code",
   "execution_count": 12,
   "metadata": {},
   "outputs": [
    {
     "data": {
      "text/plain": [
       "tensor([[[21, 24, 29, 23, 22, 27, 10],\n",
       "         [42, 48, 39, 45, 37, 39, 22],\n",
       "         [44, 45, 41, 39, 39, 40, 24],\n",
       "         [50, 48, 41, 38, 40, 41, 24],\n",
       "         [52, 53, 45, 45, 45, 47, 33],\n",
       "         [48, 53, 48, 48, 43, 40, 28],\n",
       "         [61, 60, 59, 57, 53, 50, 50]],\n",
       "\n",
       "        [[ 8, 14, 21, 16, 17, 27, 13],\n",
       "         [15, 26, 28, 25, 26, 31, 32],\n",
       "         [ 8, 17, 16, 19, 18, 22, 14],\n",
       "         [ 7, 14, 12, 15, 17, 18, 11],\n",
       "         [ 7, 10, 14, 16, 18, 16, 12],\n",
       "         [ 3,  1,  5,  8, 10,  7,  6],\n",
       "         [ 4,  1,  3,  6,  2,  4,  9]],\n",
       "\n",
       "        [[18, 24, 23, 21, 21, 25, 21],\n",
       "         [41, 40, 35, 41, 40, 38, 37],\n",
       "         [40, 38, 35, 33, 35, 37, 36],\n",
       "         [49, 41, 41, 38, 39, 41, 44],\n",
       "         [50, 45, 42, 44, 48, 41, 45],\n",
       "         [50, 41, 40, 37, 41, 36, 45],\n",
       "         [56, 49, 47, 43, 48, 49, 48]]], device='cuda:0')"
      ]
     },
     "execution_count": 12,
     "metadata": {},
     "output_type": "execute_result"
    }
   ],
   "source": [
    "(subnet.conv1.weight > 0).sum(axis=0)"
   ]
  },
  {
   "cell_type": "code",
   "execution_count": 16,
   "metadata": {},
   "outputs": [
    {
     "name": "stderr",
     "output_type": "stream",
     "text": [
      "Clipping input data to the valid range for imshow with RGB data ([0..1] for floats or [0..255] for integers).\n",
      "Clipping input data to the valid range for imshow with RGB data ([0..1] for floats or [0..255] for integers).\n",
      "Clipping input data to the valid range for imshow with RGB data ([0..1] for floats or [0..255] for integers).\n",
      "Clipping input data to the valid range for imshow with RGB data ([0..1] for floats or [0..255] for integers).\n",
      "Clipping input data to the valid range for imshow with RGB data ([0..1] for floats or [0..255] for integers).\n",
      "Clipping input data to the valid range for imshow with RGB data ([0..1] for floats or [0..255] for integers).\n",
      "Clipping input data to the valid range for imshow with RGB data ([0..1] for floats or [0..255] for integers).\n",
      "Clipping input data to the valid range for imshow with RGB data ([0..1] for floats or [0..255] for integers).\n",
      "Clipping input data to the valid range for imshow with RGB data ([0..1] for floats or [0..255] for integers).\n",
      "Clipping input data to the valid range for imshow with RGB data ([0..1] for floats or [0..255] for integers).\n",
      "Clipping input data to the valid range for imshow with RGB data ([0..1] for floats or [0..255] for integers).\n",
      "Clipping input data to the valid range for imshow with RGB data ([0..1] for floats or [0..255] for integers).\n",
      "Clipping input data to the valid range for imshow with RGB data ([0..1] for floats or [0..255] for integers).\n",
      "Clipping input data to the valid range for imshow with RGB data ([0..1] for floats or [0..255] for integers).\n",
      "Clipping input data to the valid range for imshow with RGB data ([0..1] for floats or [0..255] for integers).\n",
      "Clipping input data to the valid range for imshow with RGB data ([0..1] for floats or [0..255] for integers).\n",
      "Clipping input data to the valid range for imshow with RGB data ([0..1] for floats or [0..255] for integers).\n",
      "Clipping input data to the valid range for imshow with RGB data ([0..1] for floats or [0..255] for integers).\n",
      "Clipping input data to the valid range for imshow with RGB data ([0..1] for floats or [0..255] for integers).\n",
      "Clipping input data to the valid range for imshow with RGB data ([0..1] for floats or [0..255] for integers).\n",
      "Clipping input data to the valid range for imshow with RGB data ([0..1] for floats or [0..255] for integers).\n",
      "Clipping input data to the valid range for imshow with RGB data ([0..1] for floats or [0..255] for integers).\n",
      "Clipping input data to the valid range for imshow with RGB data ([0..1] for floats or [0..255] for integers).\n",
      "Clipping input data to the valid range for imshow with RGB data ([0..1] for floats or [0..255] for integers).\n"
     ]
    },
    {
     "data": {
      "image/png": "[encoded data removed]",
      "text/plain": [
       "<Figure size 720x720 with 64 Axes>"
      ]
     },
     "metadata": {
      "needs_background": "light"
     },
     "output_type": "display_data"
    }
   ],
   "source": [
    "import matplotlib.pyplot as plt\n",
    "\n",
    "plt.figure(figsize=(10, 10))\n",
    "for i in range(64):\n",
    "    plt.subplot(8, 8, i + 1)\n",
    "    plt.imshow(2*subnet.conv1.weight[i, :, :, :].permute((1, 2, 0)).cpu().detach().numpy() + .5)\n",
    "    plt.axis('off')"
   ]
  },
  {
   "cell_type": "code",
   "execution_count": 23,
   "metadata": {},
   "outputs": [
    {
     "data": {
      "image/png": "[encoded data removed]",
      "text/plain": [
       "<Figure size 432x288 with 1 Axes>"
      ]
     },
     "metadata": {
      "needs_background": "light"
     },
     "output_type": "display_data"
    }
   ],
   "source": [
    "plt.plot(net.wt.cpu().detach())\n",
    "plt.xlabel('Frame')\n",
    "plt.ylabel('Filter value')\n",
    "plt.title('Average temporal filter')\n",
    "plt.box('off')"
   ]
  },
  {
   "cell_type": "code",
   "execution_count": 32,
   "metadata": {},
   "outputs": [
    {
     "data": {
      "text/plain": [
       "tensor([-0.8605,  0.5710,  1.7143,  1.8800,  1.5854,  1.1979,  0.5814,  0.1018,\n",
       "        -0.5546], device='cuda:0', grad_fn=<SelectBackward>)"
      ]
     },
     "execution_count": 32,
     "metadata": {},
     "output_type": "execute_result"
    }
   ],
   "source": [
    "net.wt[:, 31]"
   ]
  },
  {
   "cell_type": "code",
   "execution_count": 37,
   "metadata": {},
   "outputs": [
    {
     "data": {
      "image/png": "[encoded data removed]",
      "text/plain": [
       "<Figure size 432x288 with 1 Axes>"
      ]
     },
     "metadata": {
      "needs_background": "light"
     },
     "output_type": "display_data"
    }
   ],
   "source": [
    "import numpy as np\n",
    "idx = np.ones(net.wt.shape[1], dtype=np.bool)\n",
    "idx[31] = False\n",
    "\n",
    "plt.plot(net.wt[:, idx].sum(axis=1).cpu().detach())\n",
    "plt.xlabel('Frame')\n",
    "plt.ylabel('Filter value')\n",
    "plt.title('Average temporal filter')\n",
    "plt.box('off')"
   ]
  },
  {
   "cell_type": "code",
   "execution_count": 40,
   "metadata": {},
   "outputs": [],
   "source": [
    "testset = pvc1_loader.PVC1(os.path.join(data_root, 'data/crcns-ringach-data'), \n",
    "                            split='report', \n",
    "                            nt=32, \n",
    "                            ntau=9,\n",
    "                            nframedelay=0)\n",
    "\n",
    "testloader = torch.utils.data.DataLoader(testset, \n",
    "                                         batch_size=12, \n",
    "                                         shuffle=False,\n",
    "                                         pin_memory=True)"
   ]
  },
  {
   "cell_type": "code",
   "execution_count": 45,
   "metadata": {},
   "outputs": [],
   "source": [
    "from torchvision import transforms\n",
    "import torch.nn.functional as F\n",
    "\n",
    "def ds():\n",
    "    downsample_filt = torch.tensor([[.25, .5, .25], [.5, 1.0, .5], [.25, .5, .25]]).view(1, 1, 3, 3).to(device=device)\n",
    "    downsample_filt /= 4.0\n",
    "\n",
    "    def d(X):\n",
    "        return F.conv2d(X.reshape(-1, 1, X.shape[3], X.shape[4]), \n",
    "                        downsample_filt, \n",
    "                        stride=2).reshape(X.shape[0], \n",
    "                            X.shape[1], \n",
    "                            X.shape[2], \n",
    "                            X.shape[3]//2,\n",
    "                            X.shape[4]//2)\n",
    "\n",
    "    return d\n",
    "\n",
    "# Downsampling helps reduce compute and decreases the \n",
    "rc = transforms.Compose([transforms.RandomCrop(223), \n",
    "                         ds()])"
   ]
  },
  {
   "cell_type": "code",
   "execution_count": 55,
   "metadata": {},
   "outputs": [
    {
     "name": "stdout",
     "output_type": "stream",
     "text": [
      "torch.Size([12, 25, 32])\n",
      "torch.Size([12, 127])\n",
      "torch.Size([12, 25, 32])\n"
     ]
    },
    {
     "data": {
      "text/plain": [
       "torch.Size([12, 25])"
      ]
     },
     "execution_count": 55,
     "metadata": {},
     "output_type": "execute_result"
    }
   ],
   "source": [
    "print(labels.shape)\n",
    "print(M.shape)\n",
    "print(fwd.shape)\n",
    "M[:, rg].shape"
   ]
  },
  {
   "cell_type": "code",
   "execution_count": 57,
   "metadata": {},
   "outputs": [
    {
     "name": "stdout",
     "output_type": "stream",
     "text": [
      "Loading batch 0\n",
      "Loading batch 1\n",
      "Loading batch 2\n",
      "Loading batch 3\n",
      "Loading batch 4\n",
      "Loading batch 5\n",
      "Loading batch 6\n",
      "Loading batch 7\n",
      "Loading batch 8\n",
      "Loading batch 9\n",
      "Loading batch 10\n",
      "Loading batch 11\n",
      "Loading batch 12\n",
      "Loading batch 13\n",
      "Loading batch 14\n",
      "Loading batch 15\n",
      "Loading batch 16\n",
      "Loading batch 17\n",
      "Loading batch 18\n",
      "Loading batch 19\n",
      "Loading batch 20\n",
      "Loading batch 21\n",
      "Loading batch 22\n",
      "Loading batch 23\n",
      "Loading batch 24\n",
      "Loading batch 25\n",
      "Loading batch 26\n",
      "Loading batch 27\n",
      "Loading batch 28\n",
      "Loading batch 29\n",
      "Loading batch 30\n",
      "Loading batch 31\n",
      "Loading batch 32\n",
      "Loading batch 33\n",
      "Loading batch 34\n",
      "Loading batch 35\n",
      "Loading batch 36\n",
      "Loading batch 37\n",
      "Loading batch 38\n",
      "Loading batch 39\n",
      "Loading batch 40\n",
      "Loading batch 41\n",
      "Loading batch 42\n",
      "Loading batch 43\n",
      "Loading batch 44\n",
      "Loading batch 45\n",
      "Loading batch 46\n",
      "Loading batch 47\n",
      "Loading batch 48\n",
      "Loading batch 49\n",
      "Loading batch 50\n",
      "Loading batch 51\n",
      "Loading batch 52\n",
      "Loading batch 53\n",
      "Loading batch 54\n",
      "Loading batch 55\n",
      "Loading batch 56\n",
      "Loading batch 57\n",
      "Loading batch 58\n",
      "Loading batch 59\n",
      "Loading batch 60\n",
      "Loading batch 61\n",
      "Loading batch 62\n",
      "Loading batch 63\n",
      "Loading batch 64\n",
      "Loading batch 65\n",
      "Loading batch 66\n",
      "Loading batch 67\n",
      "Loading batch 68\n",
      "Loading batch 69\n",
      "Loading batch 70\n",
      "Loading batch 71\n",
      "Loading batch 72\n",
      "Loading batch 73\n",
      "Loading batch 74\n",
      "Loading batch 75\n",
      "Loading batch 76\n",
      "Loading batch 77\n",
      "Loading batch 78\n",
      "Loading batch 79\n",
      "Loading batch 80\n",
      "Loading batch 81\n",
      "Loading batch 82\n",
      "Loading batch 83\n",
      "Loading batch 84\n",
      "Loading batch 85\n",
      "Loading batch 86\n",
      "Loading batch 87\n",
      "Loading batch 88\n",
      "Loading batch 89\n",
      "Loading batch 90\n",
      "Loading batch 91\n",
      "Loading batch 92\n",
      "Loading batch 93\n",
      "Loading batch 94\n",
      "Loading batch 95\n",
      "Loading batch 96\n",
      "Loading batch 97\n",
      "Loading batch 98\n",
      "Loading batch 99\n",
      "Loading batch 100\n",
      "Loading batch 101\n",
      "Loading batch 102\n",
      "Loading batch 103\n",
      "Loading batch 104\n",
      "Loading batch 105\n",
      "Loading batch 106\n",
      "Loading batch 107\n",
      "Loading batch 108\n",
      "Loading batch 109\n",
      "Loading batch 110\n",
      "Loading batch 111\n",
      "Loading batch 112\n",
      "Loading batch 113\n",
      "Loading batch 114\n",
      "Loading batch 115\n",
      "Loading batch 116\n",
      "Loading batch 117\n",
      "Loading batch 118\n",
      "Loading batch 119\n",
      "Loading batch 120\n"
     ]
    }
   ],
   "source": [
    "totals = 0\n",
    "n = 0\n",
    "\n",
    "n = torch.zeros(trainset.total_electrodes, device=device)\n",
    "total_labels = torch.zeros_like(n)\n",
    "total_labels_squared = torch.zeros_like(n)\n",
    "total_labels_sse = torch.zeros_like(n)\n",
    "\n",
    "with torch.no_grad():\n",
    "    for i, data in enumerate(testloader, 0):\n",
    "        print(f\"Loading batch {i}\")\n",
    "        X, M, labels = data\n",
    "        X, M, labels = X.to(device), M.to(device), labels.to(device)\n",
    "\n",
    "        X = rc(X)\n",
    "        fwd = net.forward((X, M))\n",
    "        \n",
    "        rg = M.any(axis=0)\n",
    "        labels = labels[:, rg, :]\n",
    "\n",
    "        n += M.sum(axis=0)\n",
    "        M = M[:, rg]\n",
    "\n",
    "        total_labels[rg] += (M.reshape(M.shape[0], M.shape[1], 1) * labels).sum(0).sum(1)\n",
    "        total_labels_squared[rg] += (M.reshape(M.shape[0], M.shape[1], 1) * (labels ** 2)).sum(0).sum(1)\n",
    "        total_labels_sse[rg] += ((M.reshape(M.shape[0], M.shape[1], 1) * (labels - fwd)) ** 2).sum(0).sum(1)"
   ]
  },
  {
   "cell_type": "code",
   "execution_count": 58,
   "metadata": {},
   "outputs": [
    {
     "data": {
      "text/plain": [
       "Text(0.5, 1.0, 'Downsampled model with pre-trained filters')"
      ]
     },
     "execution_count": 58,
     "metadata": {},
     "output_type": "execute_result"
    },
    {
     "data": {
      "image/png": "[encoded data removed]",
      "text/plain": [
       "<Figure size 432x288 with 1 Axes>"
      ]
     },
     "metadata": {
      "needs_background": "light"
     },
     "output_type": "display_data"
    }
   ],
   "source": [
    "variance_baseline = total_labels_squared / n - (total_labels / n / labels.shape[2]) ** 2\n",
    "variance_baseline\n",
    "\n",
    "variance_after = total_labels_sse / n\n",
    "\n",
    "r2 = 1 - variance_after / variance_baseline\n",
    "plt.hist(r2.cpu().squeeze().numpy(), 25)\n",
    "plt.xlabel('Report R2')\n",
    "plt.title('Downsampled model with pre-trained filters')"
   ]
  },
  {
   "cell_type": "code",
   "execution_count": 60,
   "metadata": {},
   "outputs": [
    {
     "data": {
      "text/plain": [
       "tensor(0.2520, device='cuda:0')"
      ]
     },
     "execution_count": 60,
     "metadata": {},
     "output_type": "execute_result"
    }
   ],
   "source": [
    "r2.mean()"
   ]
  },
  {
   "cell_type": "code",
   "execution_count": 65,
   "metadata": {},
   "outputs": [
    {
     "name": "stdout",
     "output_type": "stream",
     "text": [
      "tensor(0.1725, device='cuda:0')\n",
      "tensor(0.6117, device='cuda:0')\n"
     ]
    }
   ],
   "source": [
    "print(r2[testset.nrepeats == 1].mean())\n",
    "print(r2[testset.nrepeats == 10].mean())"
   ]
  },
  {
   "cell_type": "code",
   "execution_count": 59,
   "metadata": {},
   "outputs": [
    {
     "data": {
      "text/plain": [
       "tensor(0.2520, device='cuda:0')"
      ]
     },
     "execution_count": 59,
     "metadata": {},
     "output_type": "execute_result"
    }
   ],
   "source": [
    "import wandb\n",
    "import numpy as np\n",
    "\n",
    "wandb.init(project=\"crcns-test\", config={\n",
    "    \"architecture\": \"xception-2d\",\n",
    "    \"dataset\": \"pvc1\",\n",
    "    \"pretrained\": True,\n",
    "    \"downsampled\": True\n",
    "})\n",
    "config = wandb.config\n",
    "#r2 = r2.cpu().detach().numpy()\n",
    "r2 = r2[~np.isnan(r2)]\n",
    "wandb.log({\"valr2\": r2})"
   ]
  }
 ],
 "metadata": {
  "kernelspec": {
   "display_name": "Python 3",
   "language": "python",
   "name": "python3"
  },
  "language_info": {
   "codemirror_mode": {
    "name": "ipython",
    "version": 3
   },
   "file_extension": ".py",
   "mimetype": "text/x-python",
   "name": "python",
   "nbconvert_exporter": "python",
   "pygments_lexer": "ipython3",
   "version": "3.8.5"
  }
 },
 "nbformat": 4,
 "nbformat_minor": 4
}
