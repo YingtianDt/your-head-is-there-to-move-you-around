{
 "cells": [
  {
   "cell_type": "code",
   "execution_count": 77,
   "metadata": {},
   "outputs": [
    {
     "name": "stdout",
     "output_type": "stream",
     "text": [
      "[-0.03467304876307026, 3.733635024760762e-10, 0.8834849941730499, 1.0003932809829712]\n"
     ]
    }
   ],
   "source": [
    "import torch\n",
    "from torch import nn\n",
    "\n",
    "class Net(nn.Module):\n",
    "    def __init__(self):\n",
    "        super().__init__()\n",
    "        self.conv1 = nn.Conv3d(3, 4, [3, 3, 3])\n",
    "        self.bn1 = nn.BatchNorm3d(4, affine=False)\n",
    "        self.relu = nn.ReLU()\n",
    "    \n",
    "    def forward(self, X):\n",
    "        return self.relu(self.bn1(self.conv1(X)))\n",
    "    \n",
    "net = Net()\n",
    "\n",
    "activations = {}\n",
    "def hook(name):\n",
    "    def hook_fn(m, i, o):\n",
    "        activations[name] = o\n",
    "    return hook_fn\n",
    "\n",
    "net.conv1.register_forward_hook(hook('conv1'))\n",
    "net.bn1.register_forward_hook(hook('bn1'))\n",
    "\n",
    "opt = torch.optim.Adam(net.parameters(), lr=.01)\n",
    "\n",
    "# Use a ramp-up for sensitive components like BN.\n",
    "def ramp_up_one(epoch): \n",
    "    alpha = min(max(epoch - 50, 0.0) / 50, 1.0)\n",
    "    return alpha\n",
    "\n",
    "#scheduler = torch.optim.lr_scheduler.LambdaLR(opt, [ramp_up_one])\n",
    "\n",
    "m1 = []\n",
    "s1 = []\n",
    "\n",
    "m2 = []\n",
    "s2 = []\n",
    "\n",
    "m3 = []\n",
    "s3 = []\n",
    "#net.eval()\n",
    "\n",
    "for i in range(100):\n",
    "    net.zero_grad()\n",
    "    X, Y = torch.randn(10, 3, 7, 7, 7), torch.randn(10, 4, 5, 5, 5)\n",
    "    Yp = net(X)\n",
    "    loss = ((Y - Yp) ** 2).mean()\n",
    "    loss.backward()\n",
    "    opt.step()\n",
    "    \n",
    "    m1.append(activations['conv1'].mean().item())\n",
    "    s1.append(activations['conv1'].permute(1, 0, 2, 3, 4).reshape(4, -1).std(axis=1).mean().item())\n",
    "    m2.append(activations['bn1'].mean().item())\n",
    "    s2.append(activations['bn1'].permute(1, 0, 2, 3, 4).reshape(4, -1).std(axis=1).mean().item())\n",
    "    #m3.append(net.bn1.bias.mean().item())\n",
    "    #s3.append(net.bn1.weight.mean().item())\n",
    "\n",
    "    #scheduler.step()\n",
    "\n",
    "print([np.mean(m1), np.mean(m2), np.mean(s1), np.mean(s2)])"
   ]
  },
  {
   "cell_type": "code",
   "execution_count": 73,
   "metadata": {},
   "outputs": [
    {
     "data": {
      "text/plain": [
       "[<matplotlib.lines.Line2D at 0x7f8761937940>]"
      ]
     },
     "execution_count": 73,
     "metadata": {},
     "output_type": "execute_result"
    },
    {
     "data": {
      "image/png": "[encoded data removed]",
      "text/plain": [
       "<Figure size 432x288 with 1 Axes>"
      ]
     },
     "metadata": {
      "needs_background": "light"
     },
     "output_type": "display_data"
    }
   ],
   "source": [
    "import matplotlib.pyplot as plt\n",
    "import numpy as np\n",
    "\n",
    "plt.plot(np.array(s1) * np.array(s3))\n",
    "plt.plot(np.array(s2))"
   ]
  },
  {
   "cell_type": "code",
   "execution_count": 62,
   "metadata": {},
   "outputs": [
    {
     "data": {
      "text/plain": [
       "Parameter containing:\n",
       "tensor([-0.6501, -0.6477, -0.6504, -0.6407], requires_grad=True)"
      ]
     },
     "execution_count": 62,
     "metadata": {},
     "output_type": "execute_result"
    }
   ],
   "source": [
    "plt.plot(np.array(s1) * np.array(s3))\n",
    "plt.plot(np.array(s2))"
   ]
  }
 ],
 "metadata": {
  "kernelspec": {
   "display_name": "Python 3",
   "language": "python",
   "name": "python3"
  },
  "language_info": {
   "codemirror_mode": {
    "name": "ipython",
    "version": 3
   },
   "file_extension": ".py",
   "mimetype": "text/x-python",
   "name": "python",
   "nbconvert_exporter": "python",
   "pygments_lexer": "ipython3",
   "version": "3.8.2"
  }
 },
 "nbformat": 4,
 "nbformat_minor": 4
}
