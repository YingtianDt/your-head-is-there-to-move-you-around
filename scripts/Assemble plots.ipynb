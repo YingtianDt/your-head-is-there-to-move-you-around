{
 "cells": [
  {
   "cell_type": "code",
   "execution_count": 107,
   "id": "black-breed",
   "metadata": {},
   "outputs": [
    {
     "data": {
      "text/html": [
       "<img src=\"http://0.0.0.0:8000/airsim_04_layer03_17_quiver.png\"><img src=\"http://0.0.0.0:8000/pattern_tuning_curve_layer03_filt17.png?rand=0.7337831136639095\"><img src=\"http://0.0.0.0:8000/layer03_filt17_tuningcurve.png?rand=0.7022656588262803\"><img src=\"http://0.0.0.0:8000/airsim_04_res1_relu_17.gif\"><img src=\"http://0.0.0.0:8000/layer03_filt17_speedtuningcurve.png\">"
      ],
      "text/plain": [
       "<IPython.core.display.HTML object>"
      ]
     },
     "execution_count": 107,
     "metadata": {},
     "output_type": "execute_result"
    }
   ],
   "source": [
    "import numpy as np\n",
    "\n",
    "filt = 17\n",
    "layer = 2\n",
    "layer_names = ['layer01', 'layer02', 'layer03']\n",
    "alt_names = ['s1_pool_layer', 'res0_relu', 'res1_relu']\n",
    "\n",
    "from IPython.core.display import HTML\n",
    "img = f'<img src=\"http://0.0.0.0:8000/airsim_04_{layer_names[layer]}_{filt}_quiver.png\">'\n",
    "img += f'<img src=\"http://0.0.0.0:8000/pattern_tuning_curve_{layer_names[layer]}_filt{filt}.png?rand={np.random.random()}\">'\n",
    "img += f'<img src=\"http://0.0.0.0:8000/{layer_names[layer]}_filt{filt}_tuningcurve.png?rand={np.random.random()}\">'\n",
    "img += f'<img src=\"http://0.0.0.0:8000/airsim_04_{alt_names[layer]}_{filt}.gif\">'\n",
    "img += f'<img src=\"http://0.0.0.0:8000/{layer_names[layer]}_filt{filt}_speedtuningcurve.png\">'\n",
    "HTML(img)"
   ]
  }
 ],
 "metadata": {
  "kernelspec": {
   "display_name": "Python 3",
   "language": "python",
   "name": "python3"
  },
  "language_info": {
   "codemirror_mode": {
    "name": "ipython",
    "version": 3
   },
   "file_extension": ".py",
   "mimetype": "text/x-python",
   "name": "python",
   "nbconvert_exporter": "python",
   "pygments_lexer": "ipython3",
   "version": "3.8.8"
  }
 },
 "nbformat": 4,
 "nbformat_minor": 5
}
